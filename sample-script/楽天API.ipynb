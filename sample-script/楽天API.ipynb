{
 "cells": [
  {
   "cell_type": "code",
   "execution_count": 3,
   "metadata": {},
   "outputs": [],
   "source": [
    "#!pip isntall requests\n",
    "import requests\n"
   ]
  },
  {
   "cell_type": "code",
   "execution_count": 8,
   "metadata": {},
   "outputs": [],
   "source": [
    "URL = \"https://app.rakuten.co.jp/services/api/Travel/KeywordHotelSearch/20170426\"\n",
    "APP_ID = \"1011706845043754302\""
   ]
  },
  {
   "cell_type": "code",
   "execution_count": 9,
   "metadata": {},
   "outputs": [],
   "source": [
    "params = {\n",
    "    \"applicationId\":APP_ID,\n",
    "    \"keyword\":\"鳥取\"\n",
    "}\n",
    "res = requests.get(URL, params)"
   ]
  },
  {
   "cell_type": "code",
   "execution_count": 10,
   "metadata": {},
   "outputs": [
    {
     "data": {
      "text/plain": [
       "200"
      ]
     },
     "execution_count": 10,
     "metadata": {},
     "output_type": "execute_result"
    }
   ],
   "source": [
    "res.status_code"
   ]
  },
  {
   "cell_type": "code",
   "execution_count": 13,
   "metadata": {},
   "outputs": [],
   "source": [
    "hotels = res.json()['hotels']"
   ]
  },
  {
   "cell_type": "code",
   "execution_count": 16,
   "metadata": {},
   "outputs": [
    {
     "data": {
      "text/plain": [
       "{'hotelBasicInfo': {'hotelNo': 591,\n",
       "  'hotelName': 'ホテルモナーク鳥取',\n",
       "  'hotelInformationUrl': 'https://img.travel.rakuten.co.jp/image/tr/api/kw/JBe8h/?f_no=591',\n",
       "  'planListUrl': 'https://img.travel.rakuten.co.jp/image/tr/api/kw/3VTwt/?f_no=591&f_flg=PLAN',\n",
       "  'dpPlanListUrl': 'https://img.travel.rakuten.co.jp/image/tr/api/kw/IWrzP/?noTomariHotel=591',\n",
       "  'reviewUrl': 'https://img.travel.rakuten.co.jp/image/tr/api/kw/HTX0u/?f_hotel_no=591',\n",
       "  'hotelKanaName': 'ほてるもなーくとっとり',\n",
       "  'hotelSpecial': '鳥取駅から徒歩5分・無料駐車場・鳥取温泉大浴場完備！フォーマルからカジュアルまで心温まるおもてなしを',\n",
       "  'hotelMinCharge': 4800,\n",
       "  'latitude': 127766.62,\n",
       "  'longitude': 483239.7,\n",
       "  'postalCode': '680-0834',\n",
       "  'address1': '鳥取県',\n",
       "  'address2': '鳥取市永楽温泉町403',\n",
       "  'telephoneNo': '0857-20-0101',\n",
       "  'faxNo': '0857-27-8181',\n",
       "  'access': 'ＪＲ鳥取駅北口出口より徒歩5分 / 鳥取自動車道鳥取ICより車で10分 / コンビニへ徒歩2分 / 鳥取砂丘へ車で20分',\n",
       "  'parkingInformation': '無料駐車場完備／70台\\u3000',\n",
       "  'nearestStation': '鳥取',\n",
       "  'hotelImageUrl': 'https://img.travel.rakuten.co.jp/share/HOTEL/591/591.jpg',\n",
       "  'hotelThumbnailUrl': 'https://img.travel.rakuten.co.jp/HIMG/90/591.jpg',\n",
       "  'roomImageUrl': 'https://img.travel.rakuten.co.jp/share/HOTEL/591/591_a.jpg',\n",
       "  'roomThumbnailUrl': 'https://img.travel.rakuten.co.jp/HIMG/INTERIOR/591.jpg',\n",
       "  'hotelMapImageUrl': 'https://img.travel.rakuten.co.jp/share/HOTEL/591/591map.gif',\n",
       "  'reviewCount': 1467,\n",
       "  'reviewAverage': 4.25,\n",
       "  'userReview': '部屋食事温泉サービス全てにおいて申し分なく大満足の時間を過ごしました。\\u30002023-03-03 16:59:34投稿'}}"
      ]
     },
     "execution_count": 16,
     "metadata": {},
     "output_type": "execute_result"
    }
   ],
   "source": [
    "hotels[0]['hotel'][0]"
   ]
  },
  {
   "cell_type": "code",
   "execution_count": null,
   "metadata": {},
   "outputs": [],
   "source": []
  }
 ],
 "metadata": {
  "kernelspec": {
   "display_name": "Python 3.11.1 64-bit",
   "language": "python",
   "name": "python3"
  },
  "language_info": {
   "codemirror_mode": {
    "name": "ipython",
    "version": 3
   },
   "file_extension": ".py",
   "mimetype": "text/x-python",
   "name": "python",
   "nbconvert_exporter": "python",
   "pygments_lexer": "ipython3",
   "version": "3.11.1"
  },
  "orig_nbformat": 4,
  "vscode": {
   "interpreter": {
    "hash": "84cff84ddf8b9ae241919b4d8aee1aa0e887ecf43f7f14e8a46816ca1745baa6"
   }
  }
 },
 "nbformat": 4,
 "nbformat_minor": 2
}
